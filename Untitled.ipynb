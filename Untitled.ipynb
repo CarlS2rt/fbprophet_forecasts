{
 "cells": [
  {
   "cell_type": "code",
   "execution_count": 1,
   "id": "863cdb04",
   "metadata": {},
   "outputs": [],
   "source": [
    "import warnings\n",
    "warnings.simplefilter(action='ignore', category=FutureWarning)\n",
    "import pandas as pd\n",
    "from matplotlib import pyplot as plt\n",
    "import plotly.express as px\n",
    "from config import oracle_wfm_key\n",
    "import cx_Oracle\n",
    "import time\n",
    "from sqlalchemy import create_engine\n",
    "from sqlalchemy.engine import URL\n",
    "from sqlalchemy.types import String"
   ]
  },
  {
   "cell_type": "code",
   "execution_count": 2,
   "id": "2cae08fb",
   "metadata": {},
   "outputs": [
    {
     "name": "stdout",
     "output_type": "stream",
     "text": [
      "Oracle Connected\n"
     ]
    }
   ],
   "source": [
    "# open database connection\n",
    "\n",
    "DIALECT = 'oracle'\n",
    "SQL_DRIVER = 'cx_oracle'\n",
    "USERNAME = 'CCO_WFM' #enter your username\n",
    "PASSWORD = oracle_wfm_key #enter your password\n",
    "HOST = 'RACPRD06.TDS.LOCAL' #enter the oracle db host url\n",
    "PORT = 1521 # enter the oracle port number\n",
    "SERVICE = 'DB070' # enter the oracle db service name\n",
    "ENGINE_PATH_WIN_AUTH = DIALECT + '+' + SQL_DRIVER + '://' + USERNAME + ':' + PASSWORD +'@' + HOST + ':' + str(PORT) + '/?service_name=' + SERVICE\n",
    "\n",
    "ODS = create_engine(ENGINE_PATH_WIN_AUTH)\n",
    "print('Oracle Connected')"
   ]
  },
  {
   "cell_type": "code",
   "execution_count": null,
   "id": "3e74ce06",
   "metadata": {},
   "outputs": [],
   "source": [
    "query = 'SELECT '"
   ]
  }
 ],
 "metadata": {
  "kernelspec": {
   "display_name": "Python 3 (ipykernel)",
   "language": "python",
   "name": "python3"
  },
  "language_info": {
   "codemirror_mode": {
    "name": "ipython",
    "version": 3
   },
   "file_extension": ".py",
   "mimetype": "text/x-python",
   "name": "python",
   "nbconvert_exporter": "python",
   "pygments_lexer": "ipython3",
   "version": "3.9.12"
  }
 },
 "nbformat": 4,
 "nbformat_minor": 5
}
