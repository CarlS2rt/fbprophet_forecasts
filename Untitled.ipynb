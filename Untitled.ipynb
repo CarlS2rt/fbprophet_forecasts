{
 "cells": [
  {
   "cell_type": "code",
   "execution_count": null,
   "id": "37dbfa02-0f1c-4dcd-ba54-952111dc4bd1",
   "metadata": {},
   "outputs": [],
   "source": [
    "import nbformat\n",
    "from nbconvert.preprocessors import ExecutePreprocessor"
   ]
  },
  {
   "cell_type": "code",
   "execution_count": null,
   "id": "ea417113-1127-46df-b6bb-5a79b6d5957c",
   "metadata": {},
   "outputs": [],
   "source": [
    "path = f'I:\\\\GitHub\\\\fbprophet_forecasts\\\\'\n",
    "with open(f'{path}bssc_sales.ipynb') as f:\n",
    "    nb = nbformat.read(f, as_version=4)"
   ]
  },
  {
   "cell_type": "code",
   "execution_count": null,
   "id": "34e26df0-5c84-46d9-88e2-0d1ac80df754",
   "metadata": {},
   "outputs": [],
   "source": [
    "ep = ExecutePreprocessor(timeout=600)"
   ]
  },
  {
   "cell_type": "code",
   "execution_count": null,
   "id": "d4aa7b81-a060-4147-a8e6-351e39411b78",
   "metadata": {},
   "outputs": [],
   "source": [
    "ep.preprocess(nb)"
   ]
  },
  {
   "cell_type": "code",
   "execution_count": null,
   "id": "1c8ff39a-fdf1-44cd-b04e-10b2d5c06469",
   "metadata": {},
   "outputs": [],
   "source": []
  }
 ],
 "metadata": {
  "kernelspec": {
   "display_name": "Python 3 (ipykernel)",
   "language": "python",
   "name": "python3"
  },
  "language_info": {
   "codemirror_mode": {
    "name": "ipython",
    "version": 3
   },
   "file_extension": ".py",
   "mimetype": "text/x-python",
   "name": "python",
   "nbconvert_exporter": "python",
   "pygments_lexer": "ipython3",
   "version": "3.9.12"
  }
 },
 "nbformat": 4,
 "nbformat_minor": 5
}
